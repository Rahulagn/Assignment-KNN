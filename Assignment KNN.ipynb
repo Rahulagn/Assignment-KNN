{
 "cells": [
  {
   "cell_type": "code",
   "execution_count": 30,
   "metadata": {},
   "outputs": [
    {
     "name": "stderr",
     "output_type": "stream",
     "text": [
      "C:\\Users\\50003593\\AppData\\Local\\Continuum\\anaconda3\\lib\\site-packages\\sklearn\\cross_validation.py:41: DeprecationWarning: This module was deprecated in version 0.18 in favor of the model_selection module into which all the refactored classes and functions are moved. Also note that the interface of the new CV iterators are different from that of this module. This module will be removed in 0.20.\n",
      "  \"This module will be removed in 0.20.\", DeprecationWarning)\n"
     ]
    }
   ],
   "source": [
    "import os\n",
    "import numpy as np\n",
    "import pandas as pd\n",
    "import matplotlib.pyplot as plt\n",
    "from sklearn import model_selection\n",
    "from sklearn.metrics import accuracy_score\n",
    "from sklearn.neighbors import KNeighborsClassifier\n",
    "from sklearn.preprocessing import Imputer\n",
    "from sklearn import preprocessing ,cross_validation,neighbors"
   ]
  },
  {
   "cell_type": "code",
   "execution_count": 31,
   "metadata": {
    "collapsed": true
   },
   "outputs": [],
   "source": [
    "data=pd.read_csv(\"nba_2013.csv\")"
   ]
  },
  {
   "cell_type": "code",
   "execution_count": 32,
   "metadata": {
    "collapsed": true
   },
   "outputs": [],
   "source": [
    "#data.isnull().any()"
   ]
  },
  {
   "cell_type": "code",
   "execution_count": 33,
   "metadata": {
    "collapsed": true
   },
   "outputs": [],
   "source": [
    "data.fillna(data.mean(),inplace= True)"
   ]
  },
  {
   "cell_type": "code",
   "execution_count": 34,
   "metadata": {
    "collapsed": true
   },
   "outputs": [],
   "source": [
    "#data.isnull().any()"
   ]
  },
  {
   "cell_type": "code",
   "execution_count": 35,
   "metadata": {
    "collapsed": true
   },
   "outputs": [],
   "source": [
    "#data.head(5)"
   ]
  },
  {
   "cell_type": "code",
   "execution_count": 36,
   "metadata": {
    "collapsed": true
   },
   "outputs": [],
   "source": [
    "data=data.drop(['player','pos','bref_team_id','season_end','season'],axis=1)\n",
    "#data.describe()"
   ]
  },
  {
   "cell_type": "code",
   "execution_count": 37,
   "metadata": {},
   "outputs": [
    {
     "data": {
      "text/html": [
       "<div>\n",
       "<style scoped>\n",
       "    .dataframe tbody tr th:only-of-type {\n",
       "        vertical-align: middle;\n",
       "    }\n",
       "\n",
       "    .dataframe tbody tr th {\n",
       "        vertical-align: top;\n",
       "    }\n",
       "\n",
       "    .dataframe thead th {\n",
       "        text-align: right;\n",
       "    }\n",
       "</style>\n",
       "<table border=\"1\" class=\"dataframe\">\n",
       "  <thead>\n",
       "    <tr style=\"text-align: right;\">\n",
       "      <th></th>\n",
       "      <th>age</th>\n",
       "      <th>g</th>\n",
       "      <th>gs</th>\n",
       "      <th>mp</th>\n",
       "      <th>fg</th>\n",
       "      <th>fga</th>\n",
       "      <th>fg.</th>\n",
       "      <th>x3p</th>\n",
       "      <th>x3pa</th>\n",
       "      <th>x3p.</th>\n",
       "      <th>...</th>\n",
       "      <th>ft.</th>\n",
       "      <th>orb</th>\n",
       "      <th>drb</th>\n",
       "      <th>trb</th>\n",
       "      <th>ast</th>\n",
       "      <th>stl</th>\n",
       "      <th>blk</th>\n",
       "      <th>tov</th>\n",
       "      <th>pf</th>\n",
       "      <th>pts</th>\n",
       "    </tr>\n",
       "  </thead>\n",
       "  <tbody>\n",
       "    <tr>\n",
       "      <th>0</th>\n",
       "      <td>23</td>\n",
       "      <td>63</td>\n",
       "      <td>0</td>\n",
       "      <td>847</td>\n",
       "      <td>66</td>\n",
       "      <td>141</td>\n",
       "      <td>0.468</td>\n",
       "      <td>4</td>\n",
       "      <td>15</td>\n",
       "      <td>0.266667</td>\n",
       "      <td>...</td>\n",
       "      <td>0.660</td>\n",
       "      <td>72</td>\n",
       "      <td>144</td>\n",
       "      <td>216</td>\n",
       "      <td>28</td>\n",
       "      <td>23</td>\n",
       "      <td>26</td>\n",
       "      <td>30</td>\n",
       "      <td>122</td>\n",
       "      <td>171</td>\n",
       "    </tr>\n",
       "    <tr>\n",
       "      <th>1</th>\n",
       "      <td>20</td>\n",
       "      <td>81</td>\n",
       "      <td>20</td>\n",
       "      <td>1197</td>\n",
       "      <td>93</td>\n",
       "      <td>185</td>\n",
       "      <td>0.503</td>\n",
       "      <td>0</td>\n",
       "      <td>0</td>\n",
       "      <td>0.285111</td>\n",
       "      <td>...</td>\n",
       "      <td>0.581</td>\n",
       "      <td>142</td>\n",
       "      <td>190</td>\n",
       "      <td>332</td>\n",
       "      <td>43</td>\n",
       "      <td>40</td>\n",
       "      <td>57</td>\n",
       "      <td>71</td>\n",
       "      <td>203</td>\n",
       "      <td>265</td>\n",
       "    </tr>\n",
       "    <tr>\n",
       "      <th>2</th>\n",
       "      <td>27</td>\n",
       "      <td>53</td>\n",
       "      <td>12</td>\n",
       "      <td>961</td>\n",
       "      <td>143</td>\n",
       "      <td>275</td>\n",
       "      <td>0.520</td>\n",
       "      <td>0</td>\n",
       "      <td>0</td>\n",
       "      <td>0.285111</td>\n",
       "      <td>...</td>\n",
       "      <td>0.639</td>\n",
       "      <td>102</td>\n",
       "      <td>204</td>\n",
       "      <td>306</td>\n",
       "      <td>38</td>\n",
       "      <td>24</td>\n",
       "      <td>36</td>\n",
       "      <td>39</td>\n",
       "      <td>108</td>\n",
       "      <td>362</td>\n",
       "    </tr>\n",
       "    <tr>\n",
       "      <th>3</th>\n",
       "      <td>28</td>\n",
       "      <td>73</td>\n",
       "      <td>73</td>\n",
       "      <td>2552</td>\n",
       "      <td>464</td>\n",
       "      <td>1011</td>\n",
       "      <td>0.459</td>\n",
       "      <td>128</td>\n",
       "      <td>300</td>\n",
       "      <td>0.426667</td>\n",
       "      <td>...</td>\n",
       "      <td>0.815</td>\n",
       "      <td>32</td>\n",
       "      <td>230</td>\n",
       "      <td>262</td>\n",
       "      <td>248</td>\n",
       "      <td>35</td>\n",
       "      <td>3</td>\n",
       "      <td>146</td>\n",
       "      <td>136</td>\n",
       "      <td>1330</td>\n",
       "    </tr>\n",
       "    <tr>\n",
       "      <th>4</th>\n",
       "      <td>25</td>\n",
       "      <td>56</td>\n",
       "      <td>30</td>\n",
       "      <td>951</td>\n",
       "      <td>136</td>\n",
       "      <td>249</td>\n",
       "      <td>0.546</td>\n",
       "      <td>0</td>\n",
       "      <td>1</td>\n",
       "      <td>0.000000</td>\n",
       "      <td>...</td>\n",
       "      <td>0.836</td>\n",
       "      <td>94</td>\n",
       "      <td>183</td>\n",
       "      <td>277</td>\n",
       "      <td>40</td>\n",
       "      <td>23</td>\n",
       "      <td>46</td>\n",
       "      <td>63</td>\n",
       "      <td>187</td>\n",
       "      <td>328</td>\n",
       "    </tr>\n",
       "  </tbody>\n",
       "</table>\n",
       "<p>5 rows × 26 columns</p>\n",
       "</div>"
      ],
      "text/plain": [
       "   age   g  gs    mp   fg   fga    fg.  x3p  x3pa      x3p.  ...     ft.  orb  \\\n",
       "0   23  63   0   847   66   141  0.468    4    15  0.266667  ...   0.660   72   \n",
       "1   20  81  20  1197   93   185  0.503    0     0  0.285111  ...   0.581  142   \n",
       "2   27  53  12   961  143   275  0.520    0     0  0.285111  ...   0.639  102   \n",
       "3   28  73  73  2552  464  1011  0.459  128   300  0.426667  ...   0.815   32   \n",
       "4   25  56  30   951  136   249  0.546    0     1  0.000000  ...   0.836   94   \n",
       "\n",
       "   drb  trb  ast  stl  blk  tov   pf   pts  \n",
       "0  144  216   28   23   26   30  122   171  \n",
       "1  190  332   43   40   57   71  203   265  \n",
       "2  204  306   38   24   36   39  108   362  \n",
       "3  230  262  248   35    3  146  136  1330  \n",
       "4  183  277   40   23   46   63  187   328  \n",
       "\n",
       "[5 rows x 26 columns]"
      ]
     },
     "execution_count": 37,
     "metadata": {},
     "output_type": "execute_result"
    }
   ],
   "source": [
    "data.head(5)"
   ]
  },
  {
   "cell_type": "code",
   "execution_count": 38,
   "metadata": {},
   "outputs": [
    {
     "data": {
      "text/plain": [
       "array(['age', 'g', 'gs', 'mp', 'fg', 'fga', 'fg.', 'x3p', 'x3pa', 'x3p.',\n",
       "       'x2p', 'x2pa', 'x2p.', 'efg.', 'ft', 'fta', 'ft.', 'orb', 'drb',\n",
       "       'trb', 'ast', 'stl', 'blk', 'tov', 'pf', 'pts'], dtype=object)"
      ]
     },
     "execution_count": 38,
     "metadata": {},
     "output_type": "execute_result"
    }
   ],
   "source": [
    "data.columns.values"
   ]
  },
  {
   "cell_type": "code",
   "execution_count": 39,
   "metadata": {
    "collapsed": true
   },
   "outputs": [],
   "source": [
    "import pandas as pd\n",
    "import numpy as np\n",
    "from sklearn.model_selection import train_test_split"
   ]
  },
  {
   "cell_type": "code",
   "execution_count": 40,
   "metadata": {
    "collapsed": true
   },
   "outputs": [],
   "source": [
    "X = data[['age','g','gs','mp','fg','fga','fg.','x3p','x3pa','x3p.','x2p','x2pa','x2p.','efg.','ft','fta','ft.','orb','drb','trb','ast','stl','blk','tov','pf']]\n",
    "Y = data['pts']\n",
    "X_train, X_test, y_train, y_test = train_test_split(X, Y, test_size=0.3)"
   ]
  },
  {
   "cell_type": "code",
   "execution_count": 58,
   "metadata": {},
   "outputs": [],
   "source": [
    "for K in range(25):\n",
    "    K_value = K+1\n",
    "    neigh = KNeighborsClassifier(n_neighbors = K_value,weights='uniform', algorithm='auto')\n",
    "    neigh.fit(X_train, y_train) \n",
    "    y_pred = neigh.predict(X_test)\n",
    "    print (y_pred)\n",
    "    #print (\"Accuracy is \", accuracy_score(y_test,y_pred)*100,\"% for K-Value:\",K_value)"
   ]
  },
  {
   "cell_type": "code",
   "execution_count": 42,
   "metadata": {
    "collapsed": true
   },
   "outputs": [],
   "source": [
    "#data"
   ]
  },
  {
   "cell_type": "code",
   "execution_count": 43,
   "metadata": {},
   "outputs": [
    {
     "name": "stdout",
     "output_type": "stream",
     "text": [
      "[19. 21. 23. 26. 29. 33. 35. 37. 39.]\n"
     ]
    }
   ],
   "source": [
    "print(np.percentile(data.age,[0,5,25,50,75,90,95,99,100]))"
   ]
  },
  {
   "cell_type": "code",
   "execution_count": 44,
   "metadata": {},
   "outputs": [
    {
     "data": {
      "text/plain": [
       "array(['age', 'g', 'gs', 'mp', 'fg', 'fga', 'fg.', 'x3p', 'x3pa', 'x3p.',\n",
       "       'x2p', 'x2pa', 'x2p.', 'efg.', 'ft', 'fta', 'ft.', 'orb', 'drb',\n",
       "       'trb', 'ast', 'stl', 'blk', 'tov', 'pf', 'pts'], dtype=object)"
      ]
     },
     "execution_count": 44,
     "metadata": {},
     "output_type": "execute_result"
    }
   ],
   "source": [
    "data.columns.values"
   ]
  },
  {
   "cell_type": "markdown",
   "metadata": {
    "collapsed": true
   },
   "source": [
    "cols_to_norm = data.columns.tolist()\n",
    "data[cols_to_norm] = data[cols_to_norm].apply(lambda x: (x - x.min()) / (x.max() - x.min()))"
   ]
  },
  {
   "cell_type": "code",
   "execution_count": 45,
   "metadata": {},
   "outputs": [
    {
     "data": {
      "text/html": [
       "<div>\n",
       "<style scoped>\n",
       "    .dataframe tbody tr th:only-of-type {\n",
       "        vertical-align: middle;\n",
       "    }\n",
       "\n",
       "    .dataframe tbody tr th {\n",
       "        vertical-align: top;\n",
       "    }\n",
       "\n",
       "    .dataframe thead th {\n",
       "        text-align: right;\n",
       "    }\n",
       "</style>\n",
       "<table border=\"1\" class=\"dataframe\">\n",
       "  <thead>\n",
       "    <tr style=\"text-align: right;\">\n",
       "      <th></th>\n",
       "      <th>age</th>\n",
       "      <th>g</th>\n",
       "      <th>gs</th>\n",
       "      <th>mp</th>\n",
       "      <th>fg</th>\n",
       "      <th>fga</th>\n",
       "      <th>fg.</th>\n",
       "      <th>x3p</th>\n",
       "      <th>x3pa</th>\n",
       "      <th>x3p.</th>\n",
       "      <th>...</th>\n",
       "      <th>ft.</th>\n",
       "      <th>orb</th>\n",
       "      <th>drb</th>\n",
       "      <th>trb</th>\n",
       "      <th>ast</th>\n",
       "      <th>stl</th>\n",
       "      <th>blk</th>\n",
       "      <th>tov</th>\n",
       "      <th>pf</th>\n",
       "      <th>pts</th>\n",
       "    </tr>\n",
       "  </thead>\n",
       "  <tbody>\n",
       "    <tr>\n",
       "      <th>0</th>\n",
       "      <td>23</td>\n",
       "      <td>63</td>\n",
       "      <td>0</td>\n",
       "      <td>847</td>\n",
       "      <td>66</td>\n",
       "      <td>141</td>\n",
       "      <td>0.468</td>\n",
       "      <td>4</td>\n",
       "      <td>15</td>\n",
       "      <td>0.266667</td>\n",
       "      <td>...</td>\n",
       "      <td>0.660</td>\n",
       "      <td>72</td>\n",
       "      <td>144</td>\n",
       "      <td>216</td>\n",
       "      <td>28</td>\n",
       "      <td>23</td>\n",
       "      <td>26</td>\n",
       "      <td>30</td>\n",
       "      <td>122</td>\n",
       "      <td>171</td>\n",
       "    </tr>\n",
       "    <tr>\n",
       "      <th>1</th>\n",
       "      <td>20</td>\n",
       "      <td>81</td>\n",
       "      <td>20</td>\n",
       "      <td>1197</td>\n",
       "      <td>93</td>\n",
       "      <td>185</td>\n",
       "      <td>0.503</td>\n",
       "      <td>0</td>\n",
       "      <td>0</td>\n",
       "      <td>0.285111</td>\n",
       "      <td>...</td>\n",
       "      <td>0.581</td>\n",
       "      <td>142</td>\n",
       "      <td>190</td>\n",
       "      <td>332</td>\n",
       "      <td>43</td>\n",
       "      <td>40</td>\n",
       "      <td>57</td>\n",
       "      <td>71</td>\n",
       "      <td>203</td>\n",
       "      <td>265</td>\n",
       "    </tr>\n",
       "    <tr>\n",
       "      <th>2</th>\n",
       "      <td>27</td>\n",
       "      <td>53</td>\n",
       "      <td>12</td>\n",
       "      <td>961</td>\n",
       "      <td>143</td>\n",
       "      <td>275</td>\n",
       "      <td>0.520</td>\n",
       "      <td>0</td>\n",
       "      <td>0</td>\n",
       "      <td>0.285111</td>\n",
       "      <td>...</td>\n",
       "      <td>0.639</td>\n",
       "      <td>102</td>\n",
       "      <td>204</td>\n",
       "      <td>306</td>\n",
       "      <td>38</td>\n",
       "      <td>24</td>\n",
       "      <td>36</td>\n",
       "      <td>39</td>\n",
       "      <td>108</td>\n",
       "      <td>362</td>\n",
       "    </tr>\n",
       "    <tr>\n",
       "      <th>3</th>\n",
       "      <td>28</td>\n",
       "      <td>73</td>\n",
       "      <td>73</td>\n",
       "      <td>2552</td>\n",
       "      <td>464</td>\n",
       "      <td>1011</td>\n",
       "      <td>0.459</td>\n",
       "      <td>128</td>\n",
       "      <td>300</td>\n",
       "      <td>0.426667</td>\n",
       "      <td>...</td>\n",
       "      <td>0.815</td>\n",
       "      <td>32</td>\n",
       "      <td>230</td>\n",
       "      <td>262</td>\n",
       "      <td>248</td>\n",
       "      <td>35</td>\n",
       "      <td>3</td>\n",
       "      <td>146</td>\n",
       "      <td>136</td>\n",
       "      <td>1330</td>\n",
       "    </tr>\n",
       "    <tr>\n",
       "      <th>4</th>\n",
       "      <td>25</td>\n",
       "      <td>56</td>\n",
       "      <td>30</td>\n",
       "      <td>951</td>\n",
       "      <td>136</td>\n",
       "      <td>249</td>\n",
       "      <td>0.546</td>\n",
       "      <td>0</td>\n",
       "      <td>1</td>\n",
       "      <td>0.000000</td>\n",
       "      <td>...</td>\n",
       "      <td>0.836</td>\n",
       "      <td>94</td>\n",
       "      <td>183</td>\n",
       "      <td>277</td>\n",
       "      <td>40</td>\n",
       "      <td>23</td>\n",
       "      <td>46</td>\n",
       "      <td>63</td>\n",
       "      <td>187</td>\n",
       "      <td>328</td>\n",
       "    </tr>\n",
       "  </tbody>\n",
       "</table>\n",
       "<p>5 rows × 26 columns</p>\n",
       "</div>"
      ],
      "text/plain": [
       "   age   g  gs    mp   fg   fga    fg.  x3p  x3pa      x3p.  ...     ft.  orb  \\\n",
       "0   23  63   0   847   66   141  0.468    4    15  0.266667  ...   0.660   72   \n",
       "1   20  81  20  1197   93   185  0.503    0     0  0.285111  ...   0.581  142   \n",
       "2   27  53  12   961  143   275  0.520    0     0  0.285111  ...   0.639  102   \n",
       "3   28  73  73  2552  464  1011  0.459  128   300  0.426667  ...   0.815   32   \n",
       "4   25  56  30   951  136   249  0.546    0     1  0.000000  ...   0.836   94   \n",
       "\n",
       "   drb  trb  ast  stl  blk  tov   pf   pts  \n",
       "0  144  216   28   23   26   30  122   171  \n",
       "1  190  332   43   40   57   71  203   265  \n",
       "2  204  306   38   24   36   39  108   362  \n",
       "3  230  262  248   35    3  146  136  1330  \n",
       "4  183  277   40   23   46   63  187   328  \n",
       "\n",
       "[5 rows x 26 columns]"
      ]
     },
     "execution_count": 45,
     "metadata": {},
     "output_type": "execute_result"
    }
   ],
   "source": [
    "data.head(5)"
   ]
  },
  {
   "cell_type": "code",
   "execution_count": 46,
   "metadata": {
    "collapsed": true
   },
   "outputs": [],
   "source": [
    "from sklearn.model_selection import train_test_split\n",
    "\n",
    "X = data[['age','g','gs','mp','fg','fga','fg.','x3p','x3pa','x3p.','x2p','x2pa','x2p.','efg.','ft','fta','ft.','orb','drb','trb','ast','stl','blk','tov','pf']]\n",
    "Y = np.asarray(data['pts'], dtype=\"|S6\")\n",
    "X_train, X_test, y_train, y_test = train_test_split(X, Y, test_size=0.3)"
   ]
  },
  {
   "cell_type": "code",
   "execution_count": 59,
   "metadata": {},
   "outputs": [
    {
     "name": "stdout",
     "output_type": "stream",
     "text": [
      "[2.000e+01 1.400e+01 1.560e+03 1.070e+02 2.000e+02 1.241e+03 1.070e+02\n",
      " 5.440e+02 1.735e+03 6.500e+01 1.100e+02 1.830e+02 8.210e+02 4.700e+02\n",
      " 3.800e+01 4.300e+02 6.500e+01 4.950e+02 2.250e+02 1.500e+01 0.000e+00\n",
      " 1.150e+02 9.390e+02 1.810e+02 2.650e+02 3.020e+02 8.900e+01 8.900e+02\n",
      " 1.081e+03 6.000e+00 6.000e+00 5.790e+02 3.600e+01 3.390e+02 1.068e+03\n",
      " 2.000e+01 1.810e+02 4.030e+02 7.500e+01 1.370e+02 3.290e+02 1.594e+03\n",
      " 1.500e+01 1.320e+02 9.800e+01 5.270e+02 2.000e+00 8.300e+01 6.600e+02\n",
      " 1.780e+02 6.800e+01 3.500e+02 2.112e+03 1.590e+02 8.460e+02 2.000e+00\n",
      " 1.465e+03 2.600e+01 5.250e+02 1.257e+03 9.290e+02 1.241e+03 4.900e+02\n",
      " 3.900e+01 1.735e+03 7.810e+02 2.060e+02 4.570e+02 5.000e+00 9.000e+00\n",
      " 4.830e+02 1.011e+03 9.670e+02 4.040e+02 2.900e+01 1.400e+01 6.080e+02\n",
      " 1.478e+03 1.291e+03 8.100e+02 1.080e+03 8.100e+02 2.480e+02 1.113e+03\n",
      " 2.000e+00 1.320e+02 1.257e+03 5.400e+01 3.800e+01 6.300e+02 1.851e+03\n",
      " 1.465e+03 3.800e+01 4.950e+02 2.000e+00 2.800e+02 8.900e+02 9.110e+02\n",
      " 6.180e+02 8.460e+02 5.860e+02 1.096e+03 3.470e+02 1.400e+02 6.380e+02\n",
      " 3.430e+02 1.264e+03 1.257e+03 1.090e+03 1.900e+02 6.600e+02 3.840e+02\n",
      " 8.790e+02 8.100e+02 4.400e+01 8.100e+02 1.500e+01 1.100e+02 1.830e+02\n",
      " 1.011e+03 7.400e+01 3.430e+02 1.090e+03 1.770e+02 4.900e+02 6.800e+01\n",
      " 2.570e+02 4.950e+02 4.920e+02 1.096e+03 3.700e+01 8.790e+02 1.090e+03\n",
      " 2.250e+02 7.600e+01 8.210e+02 3.430e+02 8.240e+02 1.113e+03 3.490e+02\n",
      " 9.390e+02 1.360e+02 6.300e+02 1.068e+03 2.480e+02]\n",
      "[2.000e+01 1.400e+01 1.560e+03 1.020e+02 1.380e+02 1.241e+03 1.020e+02\n",
      " 5.440e+02 1.382e+03 6.500e+01 7.900e+01 1.090e+02 7.720e+02 4.700e+02\n",
      " 1.400e+01 4.250e+02 6.500e+01 4.950e+02 2.250e+02 1.500e+01 0.000e+00\n",
      " 1.150e+02 9.390e+02 1.810e+02 2.650e+02 2.700e+02 8.900e+01 8.900e+02\n",
      " 1.081e+03 3.000e+00 3.000e+00 4.970e+02 2.800e+01 3.390e+02 8.500e+02\n",
      " 2.000e+01 1.810e+02 3.430e+02 6.700e+01 1.370e+02 2.730e+02 1.372e+03\n",
      " 1.500e+01 1.320e+02 6.500e+01 4.950e+02 2.000e+00 5.400e+01 6.450e+02\n",
      " 1.440e+02 6.800e+01 3.500e+02 2.089e+03 1.590e+02 7.610e+02 2.000e+00\n",
      " 1.256e+03 1.400e+01 5.110e+02 1.257e+03 7.810e+02 1.241e+03 4.190e+02\n",
      " 2.900e+01 1.264e+03 7.810e+02 1.810e+02 4.030e+02 0.000e+00 9.000e+00\n",
      " 4.080e+02 8.950e+02 8.900e+02 3.840e+02 2.900e+01 1.400e+01 6.080e+02\n",
      " 1.465e+03 1.245e+03 8.100e+02 1.080e+03 7.910e+02 2.480e+02 1.113e+03\n",
      " 2.000e+00 1.320e+02 9.870e+02 5.400e+01 3.600e+01 6.300e+02 1.241e+03\n",
      " 1.465e+03 3.800e+01 4.950e+02 1.000e+00 2.800e+02 8.900e+02 8.900e+02\n",
      " 6.030e+02 6.250e+02 5.720e+02 9.160e+02 3.470e+02 1.400e+02 6.220e+02\n",
      " 2.260e+02 1.264e+03 1.257e+03 1.042e+03 1.370e+02 6.600e+02 3.570e+02\n",
      " 7.380e+02 7.810e+02 1.500e+01 7.380e+02 1.500e+01 1.100e+02 9.800e+01\n",
      " 1.011e+03 7.400e+01 3.430e+02 1.090e+03 1.770e+02 3.560e+02 6.800e+01\n",
      " 2.570e+02 3.470e+02 4.920e+02 1.042e+03 2.900e+01 7.590e+02 9.110e+02\n",
      " 1.590e+02 7.500e+01 7.790e+02 2.480e+02 6.660e+02 1.011e+03 3.390e+02\n",
      " 6.600e+02 1.010e+02 5.270e+02 1.068e+03 2.480e+02]\n",
      "[  15.   14. 1560.   72.  138. 1226.   89.  544. 1264.   65.   79.   75.\n",
      "  641.  470.   14.  383.   65.  454.  194.   15.    0.  115.  859.  178.\n",
      "  265.  178.   89.  890. 1081.    3.    3.  497.   28.  339.  781.   15.\n",
      "  202.  343.   67.  137.  248. 1372.   14.  132.   65.  495.    2.   54.\n",
      "  645.  137.   54.  350. 1735.  159.  761.    2. 1256.   11.  454. 1096.\n",
      "  781. 1241.  419.   29. 1264.  781.  181.  280.    0.    9.  401.  895.\n",
      "  738.  248.   12.   14.  608. 1291. 1106.  810. 1080.  791.  248. 1113.\n",
      "    2.  132.  987.   28.   28.  527. 1241. 1248.   29.  495.    2.  240.\n",
      "  890.  890.  603.  603.  572.  916.  248.  140.  608.  226. 1264. 1257.\n",
      " 1042.  137.  544.  328.  738.  738.   15.  738.   14.  110.   98. 1011.\n",
      "   54.  343.  781.  170.  356.   66.  257.  347.  492. 1042.   29.  738.\n",
      "  911.  159.   67.  779.  248.  564. 1011.  339.  660.   83.  527. 1068.\n",
      "  248.]\n",
      "[1.200e+01 1.400e+01 1.248e+03 7.200e+01 1.380e+02 1.226e+03 7.200e+01\n",
      " 5.440e+02 1.264e+03 6.500e+01 7.900e+01 7.500e+01 6.260e+02 4.700e+02\n",
      " 1.100e+01 3.830e+02 6.500e+01 4.540e+02 1.780e+02 1.500e+01 0.000e+00\n",
      " 1.150e+02 8.590e+02 1.780e+02 2.220e+02 1.780e+02 8.300e+01 7.610e+02\n",
      " 1.081e+03 3.000e+00 6.000e+00 4.970e+02 2.800e+01 3.390e+02 7.810e+02\n",
      " 1.400e+01 2.020e+02 3.430e+02 6.300e+01 1.370e+02 2.480e+02 1.372e+03\n",
      " 2.000e+01 1.320e+02 6.500e+01 4.950e+02 2.000e+00 5.400e+01 6.450e+02\n",
      " 1.370e+02 2.800e+01 3.500e+02 1.735e+03 1.590e+02 7.610e+02 1.000e+00\n",
      " 1.256e+03 1.100e+01 4.540e+02 1.096e+03 7.810e+02 1.241e+03 4.190e+02\n",
      " 2.800e+01 1.167e+03 7.810e+02 1.090e+02 2.800e+02 0.000e+00 9.000e+00\n",
      " 4.010e+02 8.950e+02 7.380e+02 2.480e+02 1.200e+01 1.500e+01 4.700e+02\n",
      " 1.248e+03 1.106e+03 7.810e+02 1.053e+03 7.810e+02 2.480e+02 9.670e+02\n",
      " 2.000e+00 1.320e+02 8.710e+02 2.800e+01 2.800e+01 5.270e+02 1.241e+03\n",
      " 1.248e+03 1.500e+01 4.950e+02 2.000e+00 2.400e+02 6.300e+02 8.900e+02\n",
      " 4.910e+02 6.030e+02 5.720e+02 9.110e+02 2.480e+02 1.390e+02 6.080e+02\n",
      " 2.260e+02 1.249e+03 1.081e+03 8.950e+02 1.320e+02 5.440e+02 3.280e+02\n",
      " 7.380e+02 7.380e+02 1.500e+01 7.380e+02 1.400e+01 1.100e+02 9.800e+01\n",
      " 1.011e+03 5.400e+01 3.150e+02 7.810e+02 1.320e+02 3.460e+02 3.600e+01\n",
      " 2.570e+02 3.470e+02 4.800e+02 1.041e+03 2.900e+01 7.380e+02 9.110e+02\n",
      " 1.590e+02 6.700e+01 6.410e+02 2.480e+02 5.640e+02 1.011e+03 3.280e+02\n",
      " 6.600e+02 8.300e+01 5.270e+02 9.610e+02 2.480e+02]\n",
      "[6.000e+00 1.400e+01 1.241e+03 6.800e+01 1.380e+02 1.226e+03 7.200e+01\n",
      " 4.250e+02 1.264e+03 6.500e+01 7.900e+01 7.500e+01 6.180e+02 4.700e+02\n",
      " 1.100e+01 3.390e+02 6.500e+01 4.540e+02 1.780e+02 9.000e+00 5.000e+00\n",
      " 1.100e+02 8.210e+02 1.780e+02 2.220e+02 1.780e+02 6.300e+01 7.610e+02\n",
      " 1.081e+03 6.000e+00 6.000e+00 4.900e+02 2.800e+01 2.980e+02 7.810e+02\n",
      " 1.500e+01 2.020e+02 3.430e+02 6.300e+01 1.370e+02 2.480e+02 1.249e+03\n",
      " 1.500e+01 1.320e+02 6.500e+01 4.950e+02 2.000e+00 5.400e+01 6.450e+02\n",
      " 1.370e+02 2.800e+01 3.500e+02 1.735e+03 1.590e+02 7.610e+02 1.000e+00\n",
      " 1.106e+03 1.100e+01 4.540e+02 1.042e+03 7.810e+02 1.241e+03 4.080e+02\n",
      " 1.200e+01 1.167e+03 7.810e+02 1.090e+02 2.800e+02 5.000e+00 1.500e+01\n",
      " 4.010e+02 8.950e+02 7.380e+02 2.480e+02 1.200e+01 1.500e+01 4.700e+02\n",
      " 1.248e+03 1.106e+03 7.810e+02 9.290e+02 7.810e+02 2.480e+02 8.950e+02\n",
      " 1.000e+00 1.320e+02 8.710e+02 2.800e+01 2.800e+01 5.270e+02 1.241e+03\n",
      " 1.248e+03 1.500e+01 4.870e+02 0.000e+00 2.220e+02 8.900e+02 8.900e+02\n",
      " 4.910e+02 6.030e+02 5.720e+02 9.110e+02 2.480e+02 1.100e+02 4.900e+02\n",
      " 2.260e+02 1.249e+03 1.068e+03 8.950e+02 1.320e+02 5.440e+02 3.280e+02\n",
      " 7.380e+02 7.380e+02 9.000e+00 7.380e+02 1.400e+01 7.900e+01 9.800e+01\n",
      " 1.011e+03 5.400e+01 3.150e+02 7.600e+02 1.320e+02 3.460e+02 3.600e+01\n",
      " 2.160e+02 3.470e+02 4.800e+02 9.870e+02 2.900e+01 7.380e+02 8.900e+02\n",
      " 1.590e+02 6.300e+01 6.410e+02 2.480e+02 5.640e+02 1.011e+03 3.280e+02\n",
      " 6.180e+02 7.400e+01 5.270e+02 9.610e+02 2.480e+02]\n"
     ]
    }
   ],
   "source": [
    "for K in range(5): # apply loop for n number of data\n",
    "    K_val =K+1\n",
    "      \n",
    "    clf = neighbors.KNeighborsClassifier(n_jobs=1,n_neighbors= K_val)\n",
    "    clf.fit(X_train,y_train)\n",
    "    y_pred = clf.predict(X_test)\n",
    "    print (y_pred)"
   ]
  },
  {
   "cell_type": "markdown",
   "metadata": {},
   "source": [
    "# New code"
   ]
  },
  {
   "cell_type": "code",
   "execution_count": 48,
   "metadata": {
    "collapsed": true
   },
   "outputs": [],
   "source": [
    "from sklearn.neighbors import KNeighborsRegressor\n",
    "from sklearn.metrics import mean_absolute_error"
   ]
  },
  {
   "cell_type": "code",
   "execution_count": 49,
   "metadata": {},
   "outputs": [
    {
     "data": {
      "text/plain": [
       "age       int64\n",
       "g         int64\n",
       "gs        int64\n",
       "mp        int64\n",
       "fg        int64\n",
       "fga       int64\n",
       "fg.     float64\n",
       "x3p       int64\n",
       "x3pa      int64\n",
       "x3p.    float64\n",
       "x2p       int64\n",
       "x2pa      int64\n",
       "x2p.    float64\n",
       "efg.    float64\n",
       "ft        int64\n",
       "fta       int64\n",
       "ft.     float64\n",
       "orb       int64\n",
       "drb       int64\n",
       "trb       int64\n",
       "ast       int64\n",
       "stl       int64\n",
       "blk       int64\n",
       "tov       int64\n",
       "pf        int64\n",
       "dtype: object"
      ]
     },
     "execution_count": 49,
     "metadata": {},
     "output_type": "execute_result"
    }
   ],
   "source": [
    "X_train.dtypes"
   ]
  },
  {
   "cell_type": "code",
   "execution_count": 50,
   "metadata": {
    "collapsed": true
   },
   "outputs": [],
   "source": [
    "m1 = KNeighborsRegressor(n_neighbors=3)"
   ]
  },
  {
   "cell_type": "code",
   "execution_count": 51,
   "metadata": {
    "collapsed": true
   },
   "outputs": [],
   "source": [
    "y_test = y_test.astype(np.float)\n",
    "y_train = y_train.astype(np.float)"
   ]
  },
  {
   "cell_type": "code",
   "execution_count": 52,
   "metadata": {},
   "outputs": [
    {
     "data": {
      "text/plain": [
       "49.98160919540231"
      ]
     },
     "execution_count": 52,
     "metadata": {},
     "output_type": "execute_result"
    }
   ],
   "source": [
    "m1.fit(X_train,y_train)\n",
    "mean_absolute_error(y_test,m1.predict(X_test))"
   ]
  },
  {
   "cell_type": "code",
   "execution_count": 53,
   "metadata": {
    "collapsed": true
   },
   "outputs": [],
   "source": [
    "import matplotlib.pyplot as plt"
   ]
  },
  {
   "cell_type": "code",
   "execution_count": 60,
   "metadata": {},
   "outputs": [
    {
     "name": "stdout",
     "output_type": "stream",
     "text": [
      "Accuracy is  58.48965517241379 % for K-Value: 1\n",
      "Accuracy is  52.241379310344826 % for K-Value: 2\n",
      "Accuracy is  49.98160919540231 % for K-Value: 3\n",
      "Accuracy is  49.70862068965517 % for K-Value: 4\n",
      "Accuracy is  46.58482758620689 % for K-Value: 5\n"
     ]
    }
   ],
   "source": [
    "MAE = []\n",
    "for K in range(5):\n",
    "    K_value = K+1\n",
    "    neigh = KNeighborsRegressor(n_neighbors= K_value)\n",
    "    neigh.fit(X_train, y_train)\n",
    "    y_pred = neigh.predict(X_test)\n",
    "    MAE.append(mean_absolute_error(y_test,y_pred))\n",
    "    print (\"Accuracy is \", mean_absolute_error(y_test,y_pred),\"% for K-Value:\",K_value)\n",
    "K = list(range(1,6))\n"
   ]
  },
  {
   "cell_type": "code",
   "execution_count": 61,
   "metadata": {},
   "outputs": [
    {
     "name": "stdout",
     "output_type": "stream",
     "text": [
      "5\n"
     ]
    },
    {
     "data": {
      "text/plain": [
       "5"
      ]
     },
     "execution_count": 61,
     "metadata": {},
     "output_type": "execute_result"
    }
   ],
   "source": [
    "print(len(MAE))\n",
    "len(K)"
   ]
  },
  {
   "cell_type": "code",
   "execution_count": 56,
   "metadata": {},
   "outputs": [
    {
     "data": {
      "image/png": "[encoded data removed]",
      "text/plain": [
       "<matplotlib.figure.Figure at 0x15ef6240>"
      ]
     },
     "metadata": {},
     "output_type": "display_data"
    }
   ],
   "source": [
    "plt.plot(K,MAE)\n",
    "plt.show()"
   ]
  },
  {
   "cell_type": "code",
   "execution_count": null,
   "metadata": {
    "collapsed": true
   },
   "outputs": [],
   "source": []
  },
  {
   "cell_type": "code",
   "execution_count": null,
   "metadata": {
    "collapsed": true
   },
   "outputs": [],
   "source": []
  }
 ],
 "metadata": {
  "anaconda-cloud": {},
  "kernelspec": {
   "display_name": "Python 3",
   "language": "python",
   "name": "python3"
  },
  "language_info": {
   "codemirror_mode": {
    "name": "ipython",
    "version": 3
   },
   "file_extension": ".py",
   "mimetype": "text/x-python",
   "name": "python",
   "nbconvert_exporter": "python",
   "pygments_lexer": "ipython3",
   "version": "3.6.3"
  }
 },
 "nbformat": 4,
 "nbformat_minor": 2
}
